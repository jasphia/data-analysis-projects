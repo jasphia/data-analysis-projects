{
 "cells": [
  {
   "cell_type": "markdown",
   "id": "2f470e67-1623-4416-b9c2-8367f7834a26",
   "metadata": {},
   "source": [
    "# Exploratory Data Analysis with pandas Studio\n",
    "\n",
    "## Data Analysis of IMDB movies data\n",
    "\n",
    "#### Blocks have been created for your code\n",
    "\n",
    "#### Click on the following link and download the dataset from [Kaggle](https://www.kaggle.com/PromptCloudHQ/imdb-data)."
   ]
  },
  {
   "cell_type": "markdown",
   "id": "34632281-1e15-44b1-a3e3-b82ddacb5cbd",
   "metadata": {},
   "source": [
    "### 1. Read data"
   ]
  },
  {
   "cell_type": "code",
   "execution_count": 5,
   "id": "070ebed9-c948-4821-9a24-67f0e3fe8fce",
   "metadata": {},
   "outputs": [],
   "source": [
    "# import pandas\n",
    "import pandas as pd\n",
    "# create your data variabe using .read_csv \n",
    "movie_data = pd.read_csv('IMDB-Movie-Data.csv')\n",
    "# create your data_indexed variable here\n",
    "data_index  = ['Title', 'Genre', 'Description', 'Director', 'Actors', 'Year', 'Runtime', 'Rating', 'Votes', 'Revenue', 'Metascrore']"
   ]
  },
  {
   "cell_type": "code",
   "execution_count": null,
   "id": "608c357a-271b-49c1-9b96-68b5c1cb7046",
   "metadata": {},
   "outputs": [],
   "source": [
    "# If you are having trouble reading your file, try finding the path.  \n",
    "    # Right click on your data set, on the pop-up menu select \"Copy Path\" then paste it into your read_csv() function."
   ]
  },
  {
   "cell_type": "code",
   "execution_count": 6,
   "id": "5d8b578c-750c-491b-98d5-140a237ad940",
   "metadata": {},
   "outputs": [
    {
     "name": "stdout",
     "output_type": "stream",
     "text": [
      "     Rank                    Title                     Genre  \\\n",
      "0       1  Guardians of the Galaxy   Action,Adventure,Sci-Fi   \n",
      "1       2               Prometheus  Adventure,Mystery,Sci-Fi   \n",
      "2       3                    Split           Horror,Thriller   \n",
      "3       4                     Sing   Animation,Comedy,Family   \n",
      "4       5            Suicide Squad  Action,Adventure,Fantasy   \n",
      "..    ...                      ...                       ...   \n",
      "995   996     Secret in Their Eyes       Crime,Drama,Mystery   \n",
      "996   997          Hostel: Part II                    Horror   \n",
      "997   998   Step Up 2: The Streets       Drama,Music,Romance   \n",
      "998   999             Search Party          Adventure,Comedy   \n",
      "999  1000               Nine Lives     Comedy,Family,Fantasy   \n",
      "\n",
      "                                           Description              Director  \\\n",
      "0    A group of intergalactic criminals are forced ...            James Gunn   \n",
      "1    Following clues to the origin of mankind, a te...          Ridley Scott   \n",
      "2    Three girls are kidnapped by a man with a diag...    M. Night Shyamalan   \n",
      "3    In a city of humanoid animals, a hustling thea...  Christophe Lourdelet   \n",
      "4    A secret government agency recruits some of th...            David Ayer   \n",
      "..                                                 ...                   ...   \n",
      "995  A tight-knit team of rising investigators, alo...             Billy Ray   \n",
      "996  Three American college students studying abroa...              Eli Roth   \n",
      "997  Romantic sparks occur between two dance studen...            Jon M. Chu   \n",
      "998  A pair of friends embark on a mission to reuni...        Scot Armstrong   \n",
      "999  A stuffy businessman finds himself trapped ins...      Barry Sonnenfeld   \n",
      "\n",
      "                                                Actors  Year  \\\n",
      "0    Chris Pratt, Vin Diesel, Bradley Cooper, Zoe S...  2014   \n",
      "1    Noomi Rapace, Logan Marshall-Green, Michael Fa...  2012   \n",
      "2    James McAvoy, Anya Taylor-Joy, Haley Lu Richar...  2016   \n",
      "3    Matthew McConaughey,Reese Witherspoon, Seth Ma...  2016   \n",
      "4    Will Smith, Jared Leto, Margot Robbie, Viola D...  2016   \n",
      "..                                                 ...   ...   \n",
      "995  Chiwetel Ejiofor, Nicole Kidman, Julia Roberts...  2015   \n",
      "996  Lauren German, Heather Matarazzo, Bijou Philli...  2007   \n",
      "997  Robert Hoffman, Briana Evigan, Cassie Ventura,...  2008   \n",
      "998  Adam Pally, T.J. Miller, Thomas Middleditch,Sh...  2014   \n",
      "999  Kevin Spacey, Jennifer Garner, Robbie Amell,Ch...  2016   \n",
      "\n",
      "     Runtime (Minutes)  Rating   Votes  Revenue (Millions)  Metascore  \n",
      "0                  121     8.1  757074              333.13       76.0  \n",
      "1                  124     7.0  485820              126.46       65.0  \n",
      "2                  117     7.3  157606              138.12       62.0  \n",
      "3                  108     7.2   60545              270.32       59.0  \n",
      "4                  123     6.2  393727              325.02       40.0  \n",
      "..                 ...     ...     ...                 ...        ...  \n",
      "995                111     6.2   27585                 NaN       45.0  \n",
      "996                 94     5.5   73152               17.54       46.0  \n",
      "997                 98     6.2   70699               58.01       50.0  \n",
      "998                 93     5.6    4881                 NaN       22.0  \n",
      "999                 87     5.3   12435               19.64       11.0  \n",
      "\n",
      "[1000 rows x 12 columns]\n"
     ]
    }
   ],
   "source": [
    "# Read data with specified explicit index\n",
    "\n",
    "\n",
    "print(movie_data)\n",
    "#print(data_indexed)"
   ]
  },
  {
   "cell_type": "markdown",
   "id": "f449d3ea-91fe-45f5-8d6b-e6ccab3502d7",
   "metadata": {
    "tags": []
   },
   "source": [
    "### 2. View Data\n",
    "#### As we go through this section, write your own definitions of what each function does as a comment in the code box."
   ]
  },
  {
   "cell_type": "code",
   "execution_count": 7,
   "id": "ac9b2d61-7ed5-4e83-995d-c498036f37f9",
   "metadata": {},
   "outputs": [
    {
     "name": "stdout",
     "output_type": "stream",
     "text": [
      "   Rank                    Title                     Genre  \\\n",
      "0     1  Guardians of the Galaxy   Action,Adventure,Sci-Fi   \n",
      "1     2               Prometheus  Adventure,Mystery,Sci-Fi   \n",
      "2     3                    Split           Horror,Thriller   \n",
      "3     4                     Sing   Animation,Comedy,Family   \n",
      "4     5            Suicide Squad  Action,Adventure,Fantasy   \n",
      "\n",
      "                                         Description              Director  \\\n",
      "0  A group of intergalactic criminals are forced ...            James Gunn   \n",
      "1  Following clues to the origin of mankind, a te...          Ridley Scott   \n",
      "2  Three girls are kidnapped by a man with a diag...    M. Night Shyamalan   \n",
      "3  In a city of humanoid animals, a hustling thea...  Christophe Lourdelet   \n",
      "4  A secret government agency recruits some of th...            David Ayer   \n",
      "\n",
      "                                              Actors  Year  Runtime (Minutes)  \\\n",
      "0  Chris Pratt, Vin Diesel, Bradley Cooper, Zoe S...  2014                121   \n",
      "1  Noomi Rapace, Logan Marshall-Green, Michael Fa...  2012                124   \n",
      "2  James McAvoy, Anya Taylor-Joy, Haley Lu Richar...  2016                117   \n",
      "3  Matthew McConaughey,Reese Witherspoon, Seth Ma...  2016                108   \n",
      "4  Will Smith, Jared Leto, Margot Robbie, Viola D...  2016                123   \n",
      "\n",
      "   Rating   Votes  Revenue (Millions)  Metascore  \n",
      "0     8.1  757074              333.13       76.0  \n",
      "1     7.0  485820              126.46       65.0  \n",
      "2     7.3  157606              138.12       62.0  \n",
      "3     7.2   60545              270.32       59.0  \n",
      "4     6.2  393727              325.02       40.0  \n"
     ]
    }
   ],
   "source": [
    "# Use the head() function to view the first 5 rows of the data set\n",
    "#returns first row(5)\n",
    "print(movie_data.head(5))\n"
   ]
  },
  {
   "cell_type": "code",
   "execution_count": 8,
   "id": "3fffca4b-90f4-4f73-a9af-f0b02886f8b3",
   "metadata": {},
   "outputs": [
    {
     "name": "stdout",
     "output_type": "stream",
     "text": [
      "     Rank                   Title                  Genre  \\\n",
      "995   996    Secret in Their Eyes    Crime,Drama,Mystery   \n",
      "996   997         Hostel: Part II                 Horror   \n",
      "997   998  Step Up 2: The Streets    Drama,Music,Romance   \n",
      "998   999            Search Party       Adventure,Comedy   \n",
      "999  1000              Nine Lives  Comedy,Family,Fantasy   \n",
      "\n",
      "                                           Description          Director  \\\n",
      "995  A tight-knit team of rising investigators, alo...         Billy Ray   \n",
      "996  Three American college students studying abroa...          Eli Roth   \n",
      "997  Romantic sparks occur between two dance studen...        Jon M. Chu   \n",
      "998  A pair of friends embark on a mission to reuni...    Scot Armstrong   \n",
      "999  A stuffy businessman finds himself trapped ins...  Barry Sonnenfeld   \n",
      "\n",
      "                                                Actors  Year  \\\n",
      "995  Chiwetel Ejiofor, Nicole Kidman, Julia Roberts...  2015   \n",
      "996  Lauren German, Heather Matarazzo, Bijou Philli...  2007   \n",
      "997  Robert Hoffman, Briana Evigan, Cassie Ventura,...  2008   \n",
      "998  Adam Pally, T.J. Miller, Thomas Middleditch,Sh...  2014   \n",
      "999  Kevin Spacey, Jennifer Garner, Robbie Amell,Ch...  2016   \n",
      "\n",
      "     Runtime (Minutes)  Rating  Votes  Revenue (Millions)  Metascore  \n",
      "995                111     6.2  27585                 NaN       45.0  \n",
      "996                 94     5.5  73152               17.54       46.0  \n",
      "997                 98     6.2  70699               58.01       50.0  \n",
      "998                 93     5.6   4881                 NaN       22.0  \n",
      "999                 87     5.3  12435               19.64       11.0  \n"
     ]
    }
   ],
   "source": [
    "# Use the tail() function to view the last 5 rows of the data set\n",
    "#returns last row(5)\n",
    "print(movie_data.tail(5))"
   ]
  },
  {
   "cell_type": "markdown",
   "id": "e03bbc57-a8cf-48da-9057-3b1f6b642a08",
   "metadata": {},
   "source": [
    "### 3. Understand basic information about the data\n",
    "#### As we go through this section, write your own definitions of what each function does as a comment in the code box."
   ]
  },
  {
   "cell_type": "code",
   "execution_count": 9,
   "id": "f303e7fb-0e02-48e2-8390-66eefca899aa",
   "metadata": {},
   "outputs": [
    {
     "name": "stdout",
     "output_type": "stream",
     "text": [
      "<class 'pandas.core.frame.DataFrame'>\n",
      "RangeIndex: 1000 entries, 0 to 999\n",
      "Data columns (total 12 columns):\n",
      " #   Column              Non-Null Count  Dtype  \n",
      "---  ------              --------------  -----  \n",
      " 0   Rank                1000 non-null   int64  \n",
      " 1   Title               1000 non-null   object \n",
      " 2   Genre               1000 non-null   object \n",
      " 3   Description         1000 non-null   object \n",
      " 4   Director            1000 non-null   object \n",
      " 5   Actors              1000 non-null   object \n",
      " 6   Year                1000 non-null   int64  \n",
      " 7   Runtime (Minutes)   1000 non-null   int64  \n",
      " 8   Rating              1000 non-null   float64\n",
      " 9   Votes               1000 non-null   int64  \n",
      " 10  Revenue (Millions)  872 non-null    float64\n",
      " 11  Metascore           936 non-null    float64\n",
      "dtypes: float64(3), int64(4), object(5)\n",
      "memory usage: 93.9+ KB\n",
      "None\n"
     ]
    }
   ],
   "source": [
    "# The info() function: \n",
    "#general summary\n",
    "print(movie_data.info())\n"
   ]
  },
  {
   "cell_type": "code",
   "execution_count": 12,
   "id": "ade5ce1f-7a2a-4940-a0f9-eed7891154ff",
   "metadata": {},
   "outputs": [
    {
     "name": "stdout",
     "output_type": "stream",
     "text": [
      "(1000, 12)\n"
     ]
    }
   ],
   "source": [
    "# shape: \n",
    "print(movie_data.shape)\n",
    "\n",
    "# what information does shape provide?  what is the order?rows,columns"
   ]
  },
  {
   "cell_type": "code",
   "execution_count": 13,
   "id": "791db782-5041-4259-a3e4-d14c6e2e248a",
   "metadata": {},
   "outputs": [
    {
     "name": "stdout",
     "output_type": "stream",
     "text": [
      "Index(['Rank', 'Title', 'Genre', 'Description', 'Director', 'Actors', 'Year',\n",
      "       'Runtime (Minutes)', 'Rating', 'Votes', 'Revenue (Millions)',\n",
      "       'Metascore'],\n",
      "      dtype='object')\n"
     ]
    }
   ],
   "source": [
    "# columns:\n",
    "\n",
    "print(movie_data.columns)\n",
    "# what information does columns provide? colunn names"
   ]
  },
  {
   "cell_type": "code",
   "execution_count": 15,
   "id": "994c8783-3f4b-4f56-b9fb-1b50193f1fab",
   "metadata": {},
   "outputs": [
    {
     "name": "stdout",
     "output_type": "stream",
     "text": [
      "<bound method NDFrame.describe of      Rank                    Title                     Genre  \\\n",
      "0       1  Guardians of the Galaxy   Action,Adventure,Sci-Fi   \n",
      "1       2               Prometheus  Adventure,Mystery,Sci-Fi   \n",
      "2       3                    Split           Horror,Thriller   \n",
      "3       4                     Sing   Animation,Comedy,Family   \n",
      "4       5            Suicide Squad  Action,Adventure,Fantasy   \n",
      "..    ...                      ...                       ...   \n",
      "995   996     Secret in Their Eyes       Crime,Drama,Mystery   \n",
      "996   997          Hostel: Part II                    Horror   \n",
      "997   998   Step Up 2: The Streets       Drama,Music,Romance   \n",
      "998   999             Search Party          Adventure,Comedy   \n",
      "999  1000               Nine Lives     Comedy,Family,Fantasy   \n",
      "\n",
      "                                           Description              Director  \\\n",
      "0    A group of intergalactic criminals are forced ...            James Gunn   \n",
      "1    Following clues to the origin of mankind, a te...          Ridley Scott   \n",
      "2    Three girls are kidnapped by a man with a diag...    M. Night Shyamalan   \n",
      "3    In a city of humanoid animals, a hustling thea...  Christophe Lourdelet   \n",
      "4    A secret government agency recruits some of th...            David Ayer   \n",
      "..                                                 ...                   ...   \n",
      "995  A tight-knit team of rising investigators, alo...             Billy Ray   \n",
      "996  Three American college students studying abroa...              Eli Roth   \n",
      "997  Romantic sparks occur between two dance studen...            Jon M. Chu   \n",
      "998  A pair of friends embark on a mission to reuni...        Scot Armstrong   \n",
      "999  A stuffy businessman finds himself trapped ins...      Barry Sonnenfeld   \n",
      "\n",
      "                                                Actors  Year  \\\n",
      "0    Chris Pratt, Vin Diesel, Bradley Cooper, Zoe S...  2014   \n",
      "1    Noomi Rapace, Logan Marshall-Green, Michael Fa...  2012   \n",
      "2    James McAvoy, Anya Taylor-Joy, Haley Lu Richar...  2016   \n",
      "3    Matthew McConaughey,Reese Witherspoon, Seth Ma...  2016   \n",
      "4    Will Smith, Jared Leto, Margot Robbie, Viola D...  2016   \n",
      "..                                                 ...   ...   \n",
      "995  Chiwetel Ejiofor, Nicole Kidman, Julia Roberts...  2015   \n",
      "996  Lauren German, Heather Matarazzo, Bijou Philli...  2007   \n",
      "997  Robert Hoffman, Briana Evigan, Cassie Ventura,...  2008   \n",
      "998  Adam Pally, T.J. Miller, Thomas Middleditch,Sh...  2014   \n",
      "999  Kevin Spacey, Jennifer Garner, Robbie Amell,Ch...  2016   \n",
      "\n",
      "     Runtime (Minutes)  Rating   Votes  Revenue (Millions)  Metascore  \n",
      "0                  121     8.1  757074              333.13       76.0  \n",
      "1                  124     7.0  485820              126.46       65.0  \n",
      "2                  117     7.3  157606              138.12       62.0  \n",
      "3                  108     7.2   60545              270.32       59.0  \n",
      "4                  123     6.2  393727              325.02       40.0  \n",
      "..                 ...     ...     ...                 ...        ...  \n",
      "995                111     6.2   27585                 NaN       45.0  \n",
      "996                 94     5.5   73152               17.54       46.0  \n",
      "997                 98     6.2   70699               58.01       50.0  \n",
      "998                 93     5.6    4881                 NaN       22.0  \n",
      "999                 87     5.3   12435               19.64       11.0  \n",
      "\n",
      "[1000 rows x 12 columns]>\n"
     ]
    }
   ],
   "source": [
    "# The describe() function: \n",
    "print(movie_data.describe)\n"
   ]
  },
  {
   "cell_type": "markdown",
   "id": "7293ea51-6d32-43ab-8d26-268bdea21de1",
   "metadata": {},
   "source": [
    "### 4. Data Selection -- Indexing and Slicing"
   ]
  },
  {
   "cell_type": "code",
   "execution_count": 16,
   "id": "b3e134af-4ef9-4a9f-9ee1-d507905764e7",
   "metadata": {},
   "outputs": [
    {
     "name": "stdout",
     "output_type": "stream",
     "text": [
      "0       Action,Adventure,Sci-Fi\n",
      "1      Adventure,Mystery,Sci-Fi\n",
      "2               Horror,Thriller\n",
      "3       Animation,Comedy,Family\n",
      "4      Action,Adventure,Fantasy\n",
      "                 ...           \n",
      "995         Crime,Drama,Mystery\n",
      "996                      Horror\n",
      "997         Drama,Music,Romance\n",
      "998            Adventure,Comedy\n",
      "999       Comedy,Family,Fantasy\n",
      "Name: Genre, Length: 1000, dtype: object\n"
     ]
    }
   ],
   "source": [
    "#  Extract data as series\n",
    "# define and print the variable 'genre'\n",
    "gnr = movie_data['Genre']\n",
    "print(gnr)\n"
   ]
  },
  {
   "cell_type": "code",
   "execution_count": 17,
   "id": "33307a39-0656-4598-8489-55bc80a253eb",
   "metadata": {},
   "outputs": [
    {
     "name": "stdout",
     "output_type": "stream",
     "text": [
      "     Rank                    Title                     Genre  \\\n",
      "0       1  Guardians of the Galaxy   Action,Adventure,Sci-Fi   \n",
      "1       2               Prometheus  Adventure,Mystery,Sci-Fi   \n",
      "2       3                    Split           Horror,Thriller   \n",
      "3       4                     Sing   Animation,Comedy,Family   \n",
      "4       5            Suicide Squad  Action,Adventure,Fantasy   \n",
      "..    ...                      ...                       ...   \n",
      "995   996     Secret in Their Eyes       Crime,Drama,Mystery   \n",
      "996   997          Hostel: Part II                    Horror   \n",
      "997   998   Step Up 2: The Streets       Drama,Music,Romance   \n",
      "998   999             Search Party          Adventure,Comedy   \n",
      "999  1000               Nine Lives     Comedy,Family,Fantasy   \n",
      "\n",
      "                                           Description              Director  \\\n",
      "0    A group of intergalactic criminals are forced ...            James Gunn   \n",
      "1    Following clues to the origin of mankind, a te...          Ridley Scott   \n",
      "2    Three girls are kidnapped by a man with a diag...    M. Night Shyamalan   \n",
      "3    In a city of humanoid animals, a hustling thea...  Christophe Lourdelet   \n",
      "4    A secret government agency recruits some of th...            David Ayer   \n",
      "..                                                 ...                   ...   \n",
      "995  A tight-knit team of rising investigators, alo...             Billy Ray   \n",
      "996  Three American college students studying abroa...              Eli Roth   \n",
      "997  Romantic sparks occur between two dance studen...            Jon M. Chu   \n",
      "998  A pair of friends embark on a mission to reuni...        Scot Armstrong   \n",
      "999  A stuffy businessman finds himself trapped ins...      Barry Sonnenfeld   \n",
      "\n",
      "                                                Actors  Year  \\\n",
      "0    Chris Pratt, Vin Diesel, Bradley Cooper, Zoe S...  2014   \n",
      "1    Noomi Rapace, Logan Marshall-Green, Michael Fa...  2012   \n",
      "2    James McAvoy, Anya Taylor-Joy, Haley Lu Richar...  2016   \n",
      "3    Matthew McConaughey,Reese Witherspoon, Seth Ma...  2016   \n",
      "4    Will Smith, Jared Leto, Margot Robbie, Viola D...  2016   \n",
      "..                                                 ...   ...   \n",
      "995  Chiwetel Ejiofor, Nicole Kidman, Julia Roberts...  2015   \n",
      "996  Lauren German, Heather Matarazzo, Bijou Philli...  2007   \n",
      "997  Robert Hoffman, Briana Evigan, Cassie Ventura,...  2008   \n",
      "998  Adam Pally, T.J. Miller, Thomas Middleditch,Sh...  2014   \n",
      "999  Kevin Spacey, Jennifer Garner, Robbie Amell,Ch...  2016   \n",
      "\n",
      "     Runtime (Minutes)  Rating   Votes  Revenue (Millions)  Metascore  \n",
      "0                  121     8.1  757074              333.13       76.0  \n",
      "1                  124     7.0  485820              126.46       65.0  \n",
      "2                  117     7.3  157606              138.12       62.0  \n",
      "3                  108     7.2   60545              270.32       59.0  \n",
      "4                  123     6.2  393727              325.02       40.0  \n",
      "..                 ...     ...     ...                 ...        ...  \n",
      "995                111     6.2   27585                 NaN       45.0  \n",
      "996                 94     5.5   73152               17.54       46.0  \n",
      "997                 98     6.2   70699               58.01       50.0  \n",
      "998                 93     5.6    4881                 NaN       22.0  \n",
      "999                 87     5.3   12435               19.64       11.0  \n",
      "\n",
      "[1000 rows x 12 columns]\n"
     ]
    }
   ],
   "source": [
    "# Extract the data as a dataframe and print it\n",
    "\n",
    "movie_df = pd.DataFrame(movie_data)\n",
    "print(movie_df)\n"
   ]
  },
  {
   "cell_type": "code",
   "execution_count": 18,
   "id": "0530ffd1-e143-4a7a-a4e2-c2e88de188f9",
   "metadata": {},
   "outputs": [
    {
     "data": {
      "text/plain": [
       "Rank                                                                  5\n",
       "Title                                                     Suicide Squad\n",
       "Genre                                          Action,Adventure,Fantasy\n",
       "Description           A secret government agency recruits some of th...\n",
       "Director                                                     David Ayer\n",
       "Actors                Will Smith, Jared Leto, Margot Robbie, Viola D...\n",
       "Year                                                               2016\n",
       "Runtime (Minutes)                                                   123\n",
       "Rating                                                              6.2\n",
       "Votes                                                            393727\n",
       "Revenue (Millions)                                               325.02\n",
       "Metascore                                                          40.0\n",
       "Name: 4, dtype: object"
      ]
     },
     "execution_count": 18,
     "metadata": {},
     "output_type": "execute_result"
    }
   ],
   "source": [
    "# Extract data using rows\n",
    "movie_df.loc[4]\n",
    "# loc function\n",
    "\n"
   ]
  },
  {
   "cell_type": "code",
   "execution_count": 19,
   "id": "7ed5a16d-7302-4c0c-bf9e-0295a8cee090",
   "metadata": {},
   "outputs": [
    {
     "data": {
      "text/plain": [
       "Rank                                                                 11\n",
       "Title                           Fantastic Beasts and Where to Find Them\n",
       "Genre                                          Adventure,Family,Fantasy\n",
       "Description           The adventures of writer Newt Scamander in New...\n",
       "Director                                                    David Yates\n",
       "Actors                Eddie Redmayne, Katherine Waterston, Alison Su...\n",
       "Year                                                               2016\n",
       "Runtime (Minutes)                                                   133\n",
       "Rating                                                              7.5\n",
       "Votes                                                            232072\n",
       "Revenue (Millions)                                               234.02\n",
       "Metascore                                                          66.0\n",
       "Name: 10, dtype: object"
      ]
     },
     "execution_count": 19,
     "metadata": {},
     "output_type": "execute_result"
    }
   ],
   "source": [
    "# iloc function\n",
    "\n",
    "movie_df.iloc[10]"
   ]
  },
  {
   "cell_type": "markdown",
   "id": "35d10282-730f-49c3-bca1-55a990811c80",
   "metadata": {},
   "source": [
    "### 5. Data Selection - Based on Conditional Filtering"
   ]
  },
  {
   "cell_type": "code",
   "execution_count": 2,
   "id": "97cac6a1-dd88-4a8c-86e8-514312bf1bb0",
   "metadata": {},
   "outputs": [
    {
     "ename": "NameError",
     "evalue": "name 'movie_df' is not defined",
     "output_type": "error",
     "traceback": [
      "\u001b[1;31m---------------------------------------------------------------------------\u001b[0m",
      "\u001b[1;31mNameError\u001b[0m                                 Traceback (most recent call last)",
      "Cell \u001b[1;32mIn[2], line 2\u001b[0m\n\u001b[0;32m      1\u001b[0m \u001b[38;5;66;03m# Use the code block to select movies that have been released between 2010-2016, with a rating of less than 6.0, but generated a signifianct (top) revenue.\u001b[39;00m\n\u001b[1;32m----> 2\u001b[0m movie_data \u001b[38;5;241m=\u001b[39m \u001b[43mmovie_df\u001b[49m[(movie_df[\u001b[38;5;124m'\u001b[39m\u001b[38;5;124mYear\u001b[39m\u001b[38;5;124m'\u001b[39m] \u001b[38;5;241m==\u001b[39m \u001b[38;5;241m2010\u001b[39m) \u001b[38;5;241m&\u001b[39m (movie_df[\u001b[38;5;124m'\u001b[39m\u001b[38;5;124mRating\u001b[39m\u001b[38;5;124m'\u001b[39m] \u001b[38;5;241m<\u001b[39m\u001b[38;5;241m6\u001b[39m)]\n\u001b[0;32m      3\u001b[0m \u001b[38;5;66;03m# movie_rate = movie_df[movie_df['Rating'] >6]\u001b[39;00m\n\u001b[0;32m      4\u001b[0m \u001b[38;5;66;03m# movie_\u001b[39;00m\n\u001b[0;32m      5\u001b[0m \u001b[38;5;66;03m# movie_test = movie_df['Revenue (Millions)'].max\u001b[39;00m\n\u001b[0;32m      6\u001b[0m \u001b[38;5;66;03m# movie_test = movie_df.max('Revenue (Millions')\u001b[39;00m\n\u001b[0;32m      7\u001b[0m movie_test \u001b[38;5;241m=\u001b[39m movie_df[\u001b[38;5;124m'\u001b[39m\u001b[38;5;124mRevenue (Millions)\u001b[39m\u001b[38;5;124m'\u001b[39m]\u001b[38;5;241m.\u001b[39mmax()\n",
      "\u001b[1;31mNameError\u001b[0m: name 'movie_df' is not defined"
     ]
    }
   ],
   "source": [
    "# Use the code block to select movies that have been released between 2010-2016, with a rating of less than 6.0, but generated a signifianct (top) revenue.\n",
    "movie_data = movie_df[(movie_df['Year'] == 2010) & (movie_df['Rating'] <6)]\n",
    "# movie_rate = movie_df[movie_df['Rating'] >6]\n",
    "# movie_\n",
    "# movie_test = movie_df['Revenue (Millions)'].max\n",
    "# movie_test = movie_df.max('Revenue (Millions')\n",
    "movie_test = movie_df['Revenue (Millions)'].max()\n",
    "\n",
    "print(movie_data, movie_test)\n"
   ]
  },
  {
   "cell_type": "code",
   "execution_count": 23,
   "id": "f0c045a1-200a-4d58-9b9f-480edb106765",
   "metadata": {},
   "outputs": [],
   "source": [
    "# Note: The article is expecting more than 1 Twilight movie at the time of publishing.  \n",
    "#To find the second Twilight movie, try manipulating the quantile value.  \n",
    "#How specific can you get?"
   ]
  },
  {
   "cell_type": "code",
   "execution_count": null,
   "id": "5f04a46e-5d8e-4bda-a917-945bdc81a9e2",
   "metadata": {},
   "outputs": [],
   "source": []
  }
 ],
 "metadata": {
  "kernelspec": {
   "display_name": "Python 3 (ipykernel)",
   "language": "python",
   "name": "python3"
  },
  "language_info": {
   "codemirror_mode": {
    "name": "ipython",
    "version": 3
   },
   "file_extension": ".py",
   "mimetype": "text/x-python",
   "name": "python",
   "nbconvert_exporter": "python",
   "pygments_lexer": "ipython3",
   "version": "3.12.5"
  }
 },
 "nbformat": 4,
 "nbformat_minor": 5
}
